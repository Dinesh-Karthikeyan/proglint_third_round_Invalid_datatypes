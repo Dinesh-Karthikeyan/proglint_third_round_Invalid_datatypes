{
 "cells": [
  {
   "cell_type": "code",
   "execution_count": 22,
   "metadata": {},
   "outputs": [],
   "source": [
    "from ultralytics import YOLO\n",
    "import cv2 as cv\n",
    "import torch"
   ]
  },
  {
   "cell_type": "code",
   "execution_count": 2,
   "metadata": {},
   "outputs": [],
   "source": [
    "model = YOLO(\"yolov8n.pt\")"
   ]
  },
  {
   "cell_type": "code",
   "execution_count": 37,
   "metadata": {},
   "outputs": [
    {
     "name": "stderr",
     "output_type": "stream",
     "text": [
      "\n",
      "0: 480x640 1 bottle, 114.5ms\n",
      "Speed: 3.0ms preprocess, 114.5ms inference, 1.0ms postprocess per image at shape (1, 3, 480, 640)\n",
      "\n",
      "0: 480x640 1 bottle, 113.5ms\n",
      "Speed: 1.0ms preprocess, 113.5ms inference, 2.0ms postprocess per image at shape (1, 3, 480, 640)\n",
      "\n",
      "0: 480x640 1 bottle, 112.3ms\n",
      "Speed: 1.0ms preprocess, 112.3ms inference, 2.0ms postprocess per image at shape (1, 3, 480, 640)\n",
      "\n",
      "0: 480x640 1 bottle, 165.5ms\n",
      "Speed: 1.0ms preprocess, 165.5ms inference, 1.0ms postprocess per image at shape (1, 3, 480, 640)\n",
      "\n",
      "0: 480x640 1 bottle, 113.5ms\n",
      "Speed: 2.0ms preprocess, 113.5ms inference, 2.0ms postprocess per image at shape (1, 3, 480, 640)\n"
     ]
    },
    {
     "name": "stdout",
     "output_type": "stream",
     "text": [
      "ultralytics.engine.results.Boxes object with attributes:\n",
      "\n",
      "cls: tensor([39.])\n",
      "conf: tensor([0.8340])\n",
      "data: tensor([[157.2373,  44.0867, 248.7676, 356.2056,   0.8340,  39.0000]])\n",
      "id: None\n",
      "is_track: False\n",
      "orig_shape: (480, 640)\n",
      "shape: torch.Size([1, 6])\n",
      "xywh: tensor([[203.0024, 200.1462,  91.5303, 312.1189]])\n",
      "xywhn: tensor([[0.3172, 0.4170, 0.1430, 0.6502]])\n",
      "xyxy: tensor([[157.2373,  44.0867, 248.7676, 356.2056]])\n",
      "xyxyn: tensor([[0.2457, 0.0918, 0.3887, 0.7421]])\n"
     ]
    }
   ],
   "source": [
    "cap = cv.VideoCapture(0)\n",
    "i = 0\n",
    "while cap.isOpened():\n",
    "    ret, frame = cap.read()\n",
    "    if ret and i < 5:\n",
    "        res = model(frame, )\n",
    "        i+=1\n",
    "    elif i == 5:\n",
    "        for r in res:\n",
    "            print(r.boxes)\n",
    "        # print(res.boxes)\n",
    "        # print(res)\n",
    "        cap.release()\n",
    "        break\n",
    "        \n",
    "        "
   ]
  },
  {
   "cell_type": "code",
   "execution_count": 38,
   "metadata": {},
   "outputs": [
    {
     "name": "stdout",
     "output_type": "stream",
     "text": [
      "[39.0]\n"
     ]
    }
   ],
   "source": [
    "result =res[0].boxes.cls.tolist()\n",
    "y = filter(lambda x: int(x) == 39 or int(x) == 64 or int(x) == 67,result)\n",
    "# list(filter)\n",
    "print(list(y))"
   ]
  },
  {
   "cell_type": "code",
   "execution_count": null,
   "metadata": {},
   "outputs": [],
   "source": []
  }
 ],
 "metadata": {
  "kernelspec": {
   "display_name": "venv",
   "language": "python",
   "name": "python3"
  },
  "language_info": {
   "codemirror_mode": {
    "name": "ipython",
    "version": 3
   },
   "file_extension": ".py",
   "mimetype": "text/x-python",
   "name": "python",
   "nbconvert_exporter": "python",
   "pygments_lexer": "ipython3",
   "version": "3.10.5"
  },
  "orig_nbformat": 4
 },
 "nbformat": 4,
 "nbformat_minor": 2
}
